{
 "cells": [
  {
   "cell_type": "markdown",
   "metadata": {},
   "source": [
    "#### Author: Vincent Yeo\n",
    "\n",
    "### Weather dataset\n",
    "\n",
    "A public dataset adapted from:\n",
    "\n",
    "[Ledolter, J. (May 2013). Data Mining and Business Analytics with R. US: Wiley. ISBN: 978-1-118-44714-7](https://www.wiley.com/en-sg/Data+Mining+and+Business+Analytics+with+R-p-9781118447147)"
   ]
  },
  {
   "cell_type": "code",
   "execution_count": null,
   "metadata": {},
   "outputs": [],
   "source": []
  }
 ],
 "metadata": {
  "kernelspec": {
   "display_name": "Python 3",
   "language": "python",
   "name": "python3"
  },
  "language_info": {
   "codemirror_mode": {
    "name": "ipython",
    "version": 3
   },
   "file_extension": ".py",
   "mimetype": "text/x-python",
   "name": "python",
   "nbconvert_exporter": "python",
   "pygments_lexer": "ipython3",
   "version": "3.7.5"
  }
 },
 "nbformat": 4,
 "nbformat_minor": 2
}
